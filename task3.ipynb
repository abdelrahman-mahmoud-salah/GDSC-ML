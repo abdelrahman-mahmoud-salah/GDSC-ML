{
 "cells": [
  {
   "cell_type": "code",
   "execution_count": 4,
   "id": "b37c774a",
   "metadata": {},
   "outputs": [
    {
     "name": "stdout",
     "output_type": "stream",
     "text": [
      "The seating capacity is 10\n",
      "The seating capacity of a ahmed is 50\n",
      "the name is abdo and id : 1\n"
     ]
    }
   ],
   "source": [
    "class Vehicle:\n",
    "\n",
    "    def __init__(self, name, max_speed=None, mileage=None):\n",
    "        self.name = name\n",
    "        self.max_speed = max_speed\n",
    "class Vehicle:\n",
    "\n",
    "    def __init__(self, name, max_speed=None, mileage=None):\n",
    "        self.name = name\n",
    "        self.max_speed = max_speed\n",
    "        self.mileage = mileage\n",
    "        \n",
    "    def show_capacity(self, capacity):\n",
    "        return f\"The seating capacity is {capacity}\"  \n",
    "class bus(Vehicle):\n",
    "    def __init__(self, name, max_speed=None, mileage=None,bus_type=None):\n",
    "         super().__init__(name, max_speed, mileage)\n",
    "         self.bus_type =bus_type \n",
    "    def show_capacity(self, capacity):\n",
    "        return f\"The seating capacity of a {self.name} is {capacity}\"\n",
    "class driver:\n",
    "    def __init__(self,name,age,experience) -> None:\n",
    "            self.name=name\n",
    "            self.age=age\n",
    "            self.experience=experience\n",
    "    def driver_id(self,id):\n",
    "        self.id=id\n",
    "        return f\"the name is {self.name} and id : {self.id}\" \n",
    "class bus_driver(bus,Vehicle):\n",
    "    def __init__(self, name, max_speed=None, mileage=None, bus_type=None,bus_id=None):\n",
    "         super().__init__(name, max_speed, mileage, bus_type) \n",
    "         self.bus_id=bus_id                              \n",
    "r=Vehicle(\"ali\")\n",
    "z=r.show_capacity(10)\n",
    "print(z)\n",
    "x=bus(\"ahmed\")\n",
    "a=x.show_capacity(50)\n",
    "print(a)\n",
    "c=driver(\"abdo\",20,\"10exp\")\n",
    "l=c.driver_id(1)\n",
    "print(l) \n"
   ]
  },
  {
   "cell_type": "code",
   "execution_count": null,
   "id": "daed2e7a",
   "metadata": {},
   "outputs": [],
   "source": []
  },
  {
   "cell_type": "code",
   "execution_count": null,
   "id": "414c9f6b",
   "metadata": {},
   "outputs": [],
   "source": []
  }
 ],
 "metadata": {
  "kernelspec": {
   "display_name": "Python 3 (ipykernel)",
   "language": "python",
   "name": "python3"
  },
  "language_info": {
   "codemirror_mode": {
    "name": "ipython",
    "version": 3
   },
   "file_extension": ".py",
   "mimetype": "text/x-python",
   "name": "python",
   "nbconvert_exporter": "python",
   "pygments_lexer": "ipython3",
   "version": "3.9.13"
  }
 },
 "nbformat": 4,
 "nbformat_minor": 5
}
